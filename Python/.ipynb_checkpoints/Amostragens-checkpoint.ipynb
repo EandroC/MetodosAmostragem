{
 "cells": [
  {
   "cell_type": "code",
   "execution_count": null,
   "id": "a9d77007",
   "metadata": {},
   "outputs": [],
   "source": [
    "import pandas as pd\n",
    "import numpy as np\n",
    "import random"
   ]
  },
  {
   "cell_type": "code",
   "execution_count": null,
   "id": "84c5d9b3",
   "metadata": {},
   "outputs": [],
   "source": [
    "#dados = pd.read_csv(\"../Dados/Iris.csv\")\n",
    "arquivo = \"../Dados/Iris.csv\"\n",
    "dados = pd.read_csv(arquivo)"
   ]
  },
  {
   "cell_type": "code",
   "execution_count": null,
   "id": "fbcc17e7",
   "metadata": {},
   "outputs": [],
   "source": [
    "dados.shape"
   ]
  },
  {
   "cell_type": "code",
   "execution_count": null,
   "id": "23b980bf",
   "metadata": {},
   "outputs": [],
   "source": [
    "#Fazendo uma amostragem utilizando uma porcentagem de 50% de cada linha(individuo) do arquivo csv ser escolhido.\n",
    "amostraPorc = pd.read_csv(arquivo, skiprows=lambda x: x > 0 and random.random() >=0.5)\n",
    "\n",
    "amostraPorc.shape"
   ]
  },
  {
   "cell_type": "code",
   "execution_count": null,
   "id": "acbb049f",
   "metadata": {},
   "outputs": [],
   "source": [
    "#Fazendo uma amostragem utilizando uma quantidade fixa de individuos aleatórios que devem estar na amostrar(75, ou seja metade dos presentes no csv).\n",
    "rows =  random.sample(range(1,len(dados)), len(dados)-75)\n",
    "amostraFix = pd.read_csv(arquivo, skiprows=rows)\n",
    "\n",
    "amostraFix.shape"
   ]
  },
  {
   "cell_type": "code",
   "execution_count": null,
   "id": "a3144245",
   "metadata": {},
   "outputs": [],
   "source": [
    "specie = amostraPorc.groupby(['Species']).size()\n",
    "specie"
   ]
  },
  {
   "cell_type": "code",
   "execution_count": null,
   "id": "3465d35d",
   "metadata": {},
   "outputs": [],
   "source": [
    "specie = amostraFix.groupby(['Species']).size()\n",
    "specie"
   ]
  },
  {
   "cell_type": "code",
   "execution_count": null,
   "id": "7bd736e5",
   "metadata": {},
   "outputs": [],
   "source": []
  }
 ],
 "metadata": {
  "kernelspec": {
   "display_name": "Python 3 (ipykernel)",
   "language": "python",
   "name": "python3"
  },
  "language_info": {
   "codemirror_mode": {
    "name": "ipython",
    "version": 3
   },
   "file_extension": ".py",
   "mimetype": "text/x-python",
   "name": "python",
   "nbconvert_exporter": "python",
   "pygments_lexer": "ipython3",
   "version": "3.9.13"
  }
 },
 "nbformat": 4,
 "nbformat_minor": 5
}
